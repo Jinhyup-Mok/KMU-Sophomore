{
  "nbformat": 4,
  "nbformat_minor": 0,
  "metadata": {
    "colab": {
      "provenance": []
    },
    "kernelspec": {
      "name": "python3",
      "display_name": "Python 3"
    },
    "language_info": {
      "name": "python"
    }
  },
  "cells": [
    {
      "cell_type": "markdown",
      "source": [
        "# [과제] latent factor model practice <br>\n",
        "강의슬라이드 L08.1 latent factor model practice 를 참고하여 모든 실습을 수행한 결과를 제출하세요.\n",
        "\n",
        "제출 파일 형식은 ipynb입니다.\n",
        "\n",
        "제출 파일은 코드와 실행 결과를 모두 포함하여야 합니다.\n",
        "\n",
        "colab에서 실습을 수행한 경우 \"파일 > .ipynb 다운로드\" 를 클릭하여 다운로드하고, 파일 이름은 \"학번_이름.ipynb\" 로 하여 제출하세요.\n",
        "\n"
      ],
      "metadata": {
        "id": "2z2fFtXS-hIx"
      }
    },
    {
      "cell_type": "code",
      "execution_count": 2,
      "metadata": {
        "id": "PTzub2mmr4Jp",
        "colab": {
          "base_uri": "https://localhost:8080/"
        },
        "outputId": "e16966c4-652a-435f-e398-c7e2b9c770a5"
      },
      "outputs": [
        {
          "output_type": "stream",
          "name": "stdout",
          "text": [
            "--2023-11-09 01:31:14--  https://files.grouplens.org/datasets/movielens/ml-100k.zip\n",
            "Resolving files.grouplens.org (files.grouplens.org)... 128.101.65.152\n",
            "Connecting to files.grouplens.org (files.grouplens.org)|128.101.65.152|:443... connected.\n",
            "HTTP request sent, awaiting response... 200 OK\n",
            "Length: 4924029 (4.7M) [application/zip]\n",
            "Saving to: ‘ml-100k.zip’\n",
            "\n",
            "ml-100k.zip         100%[===================>]   4.70M  8.87MB/s    in 0.5s    \n",
            "\n",
            "2023-11-09 01:31:15 (8.87 MB/s) - ‘ml-100k.zip’ saved [4924029/4924029]\n",
            "\n",
            "Archive:  ml-100k.zip\n",
            "   creating: ml-100k/\n",
            "  inflating: ml-100k/allbut.pl       \n",
            "  inflating: ml-100k/mku.sh          \n",
            "  inflating: ml-100k/README          \n",
            "  inflating: ml-100k/u.data          \n",
            "  inflating: ml-100k/u.genre         \n",
            "  inflating: ml-100k/u.info          \n",
            "  inflating: ml-100k/u.item          \n",
            "  inflating: ml-100k/u.occupation    \n",
            "  inflating: ml-100k/u.user          \n",
            "  inflating: ml-100k/u1.base         \n",
            "  inflating: ml-100k/u1.test         \n",
            "  inflating: ml-100k/u2.base         \n",
            "  inflating: ml-100k/u2.test         \n",
            "  inflating: ml-100k/u3.base         \n",
            "  inflating: ml-100k/u3.test         \n",
            "  inflating: ml-100k/u4.base         \n",
            "  inflating: ml-100k/u4.test         \n",
            "  inflating: ml-100k/u5.base         \n",
            "  inflating: ml-100k/u5.test         \n",
            "  inflating: ml-100k/ua.base         \n",
            "  inflating: ml-100k/ua.test         \n",
            "  inflating: ml-100k/ub.base         \n",
            "  inflating: ml-100k/ub.test         \n"
          ]
        }
      ],
      "source": [
        "# MovieLens 데이터 준비\n",
        "\n",
        "!wget https://files.grouplens.org/datasets/movielens/ml-100k.zip\n",
        "!unzip ml-100k.zip"
      ]
    },
    {
      "cell_type": "code",
      "source": [
        "# 구글드라이브 연결하기 -> colab에서 직접 다운로드\n",
        "# from google.colab import drive\n",
        "# drive.mount('/content/gdrive')"
      ],
      "metadata": {
        "id": "fmRtACojtMiB"
      },
      "execution_count": 17,
      "outputs": []
    },
    {
      "cell_type": "code",
      "source": [
        "import torch\n",
        "import pandas as pd\n",
        "import torch.nn.functional as F\n",
        "import matplotlib.pyplot as plt"
      ],
      "metadata": {
        "id": "uq7Q1kW3tffy"
      },
      "execution_count": 2,
      "outputs": []
    },
    {
      "cell_type": "code",
      "source": [
        "# 파일 불러오기\n",
        "train = pd.read_csv(\"ml-100k/ua.base\",\n",
        "                    sep=\"\\t\", names=['user','movie', 'rating', 'timestamp'])\n",
        "test = pd.read_csv(\"ml-100k/ua.test\",\n",
        "                   sep=\"\\t\", names=['user','movie', 'rating', 'timestamp'])"
      ],
      "metadata": {
        "id": "gJjK7dTftx4U"
      },
      "execution_count": 3,
      "outputs": []
    },
    {
      "cell_type": "code",
      "source": [
        "# pytorch tensor 데이터로 변환\n",
        "items = torch.LongTensor(train['movie'])\n",
        "users = torch.LongTensor(train['user'])\n",
        "ratings = torch.FloatTensor(train['rating'])\n",
        "items_test = torch.LongTensor(test['movie'])\n",
        "users_test = torch.LongTensor(test['user'])\n",
        "ratings_test = torch.FloatTensor(test['rating'])"
      ],
      "metadata": {
        "id": "pktX5t4_uUUP"
      },
      "execution_count": 4,
      "outputs": []
    },
    {
      "cell_type": "markdown",
      "source": [
        "Latent Factor Model\n",
        "\n",
        "- rank→사용자vector,아이템vector의차원<br>\n",
        "- numUsers→사용자수<br>\n",
        "- numItems→아이템수<br>\n",
        "- P→아이템매트릭스<br>\n",
        "- Q→사용자매트릭스"
      ],
      "metadata": {
        "id": "GxSMA_uguogi"
      }
    },
    {
      "cell_type": "code",
      "source": [
        "# Latent Factor Model\n",
        "\n",
        "rank = 10\n",
        "numItems = items.max() + 1\n",
        "numUsers = users.max() + 1\n",
        "P = torch.randn(numItems, rank, requires_grad=True)\n",
        "Q = torch.randn(numUsers, rank, requires_grad=True)\n",
        "\n",
        "\n",
        "x = []\n",
        "y = []\n",
        "y_test = []\n",
        "\n",
        "# 기본 Matrix Factoriztion 구현\n",
        "optimizer = torch.optim.Adam([P, Q], lr= 0.1)\n",
        "for epoch in range(1001):\n",
        "  hypothesis = torch. sum(P[items] * Q[users], dim= 1)\n",
        "  cost = F.mse_loss(hypothesis ,ratings)\n",
        "\n",
        "  optimizer.zero_grad()\n",
        "  cost.backward()\n",
        "  optimizer.step()\n",
        "\n",
        "  x.append(epoch)\n",
        "  y.append(cost.item())\n",
        "\n",
        "  with torch.no_grad():\n",
        "    hypo_test = torch.sum(P[items_test] * Q[users_test], dim=1)\n",
        "    cost_test = F.mse_loss(hypo_test, ratings_test)\n",
        "    y_test.append(cost_test)\n",
        "\n",
        "  if epoch % 100 == 0:\n",
        "    print(\"epoch: {}, cost: {:.6f}\" .format(epoch, cost.item()))\n",
        "\n",
        "# Matplolib으로 epoch마다 Training MSE & Test MSE 그려보기\n",
        "plt.ylabel(\"MSE\")\n",
        "plt.xlabel(\"Epoch\")\n",
        "plt.plot(x, y, c=\"blue\", label=\"Training MSE\")\n",
        "plt.plot(x,y_test, c=\"red\", label=\"Test MSE\")\n",
        "plt.legend()\n",
        "plt.show()"
      ],
      "metadata": {
        "colab": {
          "base_uri": "https://localhost:8080/",
          "height": 649
        },
        "id": "TGWeUYYrug59",
        "outputId": "4d4d3355-fa7d-4a98-a99f-bde8b3b2eba3"
      },
      "execution_count": 32,
      "outputs": [
        {
          "output_type": "stream",
          "name": "stdout",
          "text": [
            "epoch: 0, cost: 23.934498\n",
            "epoch: 100, cost: 0.567104\n",
            "epoch: 200, cost: 0.494785\n",
            "epoch: 300, cost: 0.471314\n",
            "epoch: 400, cost: 0.461034\n",
            "epoch: 500, cost: 0.455256\n",
            "epoch: 600, cost: 0.451653\n",
            "epoch: 700, cost: 0.449268\n",
            "epoch: 800, cost: 0.447549\n",
            "epoch: 900, cost: 0.446158\n",
            "epoch: 1000, cost: 0.445005\n"
          ]
        },
        {
          "output_type": "display_data",
          "data": {
            "text/plain": [
              "<Figure size 640x480 with 1 Axes>"
            ],
            "image/png": "[encoded data removed]"
          },
          "metadata": {}
        }
      ]
    },
    {
      "cell_type": "markdown",
      "source": [
        "Regularization"
      ],
      "metadata": {
        "id": "oIvImT515UVb"
      }
    },
    {
      "cell_type": "code",
      "source": [
        "# Latent Factor Model\n",
        "# Regularization\n",
        "\n",
        "rank = 10\n",
        "numItems = items.max() + 1\n",
        "numUsers = users.max() + 1\n",
        "P = torch.randn(numItems, rank, requires_grad=True)\n",
        "Q = torch.randn(numUsers, rank, requires_grad=True)\n",
        "\n",
        "\n",
        "x = []\n",
        "y = []\n",
        "y_test = []\n",
        "\n",
        "lambda1 = 0.0001\n",
        "lambda2 = 0.0001\n",
        "\n",
        "# 기본 Matrix Factoriztion 구현\n",
        "optimizer = torch.optim.Adam([P, Q], lr= 0.1)\n",
        "for epoch in range(1001):\n",
        "  hypothesis = torch. sum(P[items] * Q[users], dim= 1)\n",
        "  cost = F.mse_loss(hypothesis ,ratings)\n",
        "\n",
        "  loss = cost + lambda1 * torch.sum(P ** 2) + lambda2 * torch.sum(Q ** 2)\n",
        "\n",
        "  optimizer.zero_grad()\n",
        "  loss.backward()\n",
        "  optimizer.step()\n",
        "\n",
        "  x.append(epoch)\n",
        "  y.append(cost.item())\n",
        "\n",
        "  with torch.no_grad():\n",
        "    hypo_test = torch.sum(P[items_test] * Q[users_test], dim=1)\n",
        "    cost_test = F.mse_loss(hypo_test, ratings_test)\n",
        "    y_test.append(cost_test)\n",
        "\n",
        "  if epoch % 100 == 0:\n",
        "    print(\"epoch: {}, cost: {:.6f}\" .format(epoch, cost.item()))\n",
        "\n",
        "# Matplolib으로 epoch마다 Training MSE & Test MSE 그려보기\n",
        "plt.ylabel(\"MSE\")\n",
        "plt.xlabel(\"Epoch\")\n",
        "plt.plot(x, y, c=\"blue\", label=\"Training MSE\")\n",
        "plt.plot(x,y_test, c=\"red\", label=\"Test MSE\")\n",
        "plt.legend()\n",
        "plt.show()"
      ],
      "metadata": {
        "colab": {
          "base_uri": "https://localhost:8080/",
          "height": 645
        },
        "id": "LBbFE1K9vfWV",
        "outputId": "e3fb756c-6fff-4758-b781-a9110dde62ba"
      },
      "execution_count": 34,
      "outputs": [
        {
          "output_type": "stream",
          "name": "stdout",
          "text": [
            "epoch: 0, cost: 24.292950\n",
            "epoch: 100, cost: 0.693167\n",
            "epoch: 200, cost: 0.640373\n",
            "epoch: 300, cost: 0.630512\n",
            "epoch: 400, cost: 0.627582\n",
            "epoch: 500, cost: 0.626489\n",
            "epoch: 600, cost: 0.626099\n",
            "epoch: 700, cost: 0.625950\n",
            "epoch: 800, cost: 0.625891\n",
            "epoch: 900, cost: 0.625867\n",
            "epoch: 1000, cost: 0.625857\n"
          ]
        },
        {
          "output_type": "display_data",
          "data": {
            "text/plain": [
              "<Figure size 640x480 with 1 Axes>"
            ],
            "image/png": "[encoded data removed]"
          },
          "metadata": {}
        }
      ]
    },
    {
      "cell_type": "code",
      "source": [
        "# Latent Factor Model\n",
        "# Regularization\n",
        "# Add Bias\n",
        "\n",
        "rank = 10\n",
        "numItems = items.max() + 1\n",
        "numUsers = users.max() + 1\n",
        "P = torch.randn(numItems, rank, requires_grad=True)\n",
        "Q = torch.randn(numUsers, rank, requires_grad=True)\n",
        "\n",
        "\n",
        "x = []\n",
        "y = []\n",
        "y_test = []\n",
        "\n",
        "lambda1 = 0.0001\n",
        "lambda2 = 0.0001\n",
        "\n",
        "lambda3 = 0.001\n",
        "lambda4 = 0.001\n",
        "bias_item = torch.randn(numItems, requires_grad=True)\n",
        "bias_user = torch.randn(numUsers, requires_grad=True)\n",
        "mean = (ratings.sum() / len(ratings)).item()\n",
        "\n",
        "\n",
        "# 기본 Matrix Factoriztion 구현\n",
        "optimizer = torch.optim.Adam([P, Q, bias_item, bias_user], lr=0.1)\n",
        "for epoch in range(1001):\n",
        "  hypothesis = torch. sum(P[items] * Q[users], dim= 1) + mean + bias_item[items] + bias_user[users]\n",
        "  cost = F.mse_loss(hypothesis ,ratings)\n",
        "  loss = cost + lambda1 * torch.sum(P ** 2) + lambda2 * torch.sum(Q ** 2) + lambda3 * torch.sum(bias_item ** 2) + lambda4 * torch.sum(bias_user ** 2)\n",
        "\n",
        "  optimizer.zero_grad()\n",
        "  loss.backward()\n",
        "  optimizer.step()\n",
        "\n",
        "  x.append(epoch)\n",
        "  y.append(cost.item())\n",
        "\n",
        "  with torch.no_grad():\n",
        "    hypo_test = torch.sum(P[items_test] * Q[users_test], dim=1) + mean + bias_item[items_test] + bias_user[users_test]\n",
        "    cost_test = F.mse_loss(hypo_test, ratings_test)\n",
        "    y_test.append(cost_test)\n",
        "\n",
        "  if epoch % 100 == 0:\n",
        "    print(\"epoch: {}, cost: {:.6f}\" .format(epoch, cost.item()))\n",
        "\n",
        "# Matplolib으로 epoch마다 Training MSE & Test MSE 그려보기\n",
        "plt.ylabel(\"MSE\")\n",
        "plt.xlabel(\"Epoch\")\n",
        "plt.plot(x, y, c=\"blue\", label=\"Training MSE\")\n",
        "plt.plot(x,y_test, c=\"red\", label=\"Test MSE\")\n",
        "plt.legend()\n",
        "plt.show()"
      ],
      "metadata": {
        "colab": {
          "base_uri": "https://localhost:8080/",
          "height": 645
        },
        "id": "RhRMgrW-5QuM",
        "outputId": "26411ecf-daed-48ae-9ce8-92ea480021aa"
      },
      "execution_count": 35,
      "outputs": [
        {
          "output_type": "stream",
          "name": "stdout",
          "text": [
            "epoch: 0, cost: 12.920452\n",
            "epoch: 100, cost: 0.635487\n",
            "epoch: 200, cost: 0.606807\n",
            "epoch: 300, cost: 0.603834\n",
            "epoch: 400, cost: 0.603235\n",
            "epoch: 500, cost: 0.603028\n",
            "epoch: 600, cost: 0.602910\n",
            "epoch: 700, cost: 0.602803\n",
            "epoch: 800, cost: 0.602683\n",
            "epoch: 900, cost: 0.602495\n",
            "epoch: 1000, cost: 0.602305\n"
          ]
        },
        {
          "output_type": "display_data",
          "data": {
            "text/plain": [
              "<Figure size 640x480 with 1 Axes>"
            ],
            "image/png": "[encoded data removed]"
          },
          "metadata": {}
        }
      ]
    }
  ]
}