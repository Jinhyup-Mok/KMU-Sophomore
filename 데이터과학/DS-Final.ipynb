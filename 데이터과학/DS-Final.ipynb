{
 "cells": [
  {
   "attachments": {},
   "cell_type": "markdown",
   "metadata": {},
   "source": [
    "**데이터과학 기말고사 풀이**"
   ]
  },
  {
   "attachments": {},
   "cell_type": "markdown",
   "metadata": {},
   "source": [
    "PCA 1번"
   ]
  },
  {
   "cell_type": "code",
   "execution_count": null,
   "metadata": {},
   "outputs": [],
   "source": [
    "import numpy as np\n",
    "import pandas as pd\n",
    "\n",
    "file_path = 'gender.csv'\n",
    "\n",
    "df = pd.read_csv(file_path)\n",
    "\n",
    "ppd = df[['long_hair', 'forehead_width_cm', 'forehead_height_cm', 'nose_wide', 'nose_long', 'lips_thin', 'distance_nose_to_lip_long']]\n",
    "\n",
    "print(ppd)"
   ]
  },
  {
   "cell_type": "code",
   "execution_count": 1,
   "metadata": {},
   "outputs": [],
   "source": [
    "from sklearn.decomposition import PCA\n",
    "import matplotlib.pyplot as plt\n",
    "\n",
    "X = ppd\n",
    "target = df['gender']\n",
    "pca = PCA(n_components=5)\n",
    "Y = pca.fit_transform(X)\n",
    "\n",
    "plt.scatter(Y[:,0], Y[:,1], alpha=0.3)\n",
    "plt.show()\n",
    "\n",
    "plt.scatter(Y[:,1], Y[:,2], alpha=0.3)\n",
    "plt.show()\n",
    "\n",
    "plt.scatter(Y[:,2], Y[:,3], alpha=0.3)\n",
    "plt.show()\n",
    "\n",
    "plt.scatter(Y[:,3], Y[:,4], alpha=0.3)\n",
    "plt.show()\n",
    "\n",
    "\n",
    "# plt.plot(pca.explained_variance_, \"-o\")\n",
    "# plt.show()\n"
   ]
  },
  {
   "attachments": {},
   "cell_type": "markdown",
   "metadata": {},
   "source": [
    "PCA 2번"
   ]
  },
  {
   "cell_type": "code",
   "execution_count": null,
   "metadata": {},
   "outputs": [],
   "source": [
    "print(pca.explained_variance_)\n",
    "\n",
    "a = [1.35223748, 0.57706972, 0.26194024, 0.11699287, 0.11074894]\n",
    "b = [round(var, 3) for var in a]\n",
    "print(b)"
   ]
  },
  {
   "attachments": {},
   "cell_type": "markdown",
   "metadata": {},
   "source": [
    "PCA 3번"
   ]
  },
  {
   "cell_type": "code",
   "execution_count": null,
   "metadata": {},
   "outputs": [],
   "source": [
    "from numpy import linalg\n",
    "# covariance matrix, eigen decomposition\n",
    "\n",
    "X = [[1,2],[2,1],[3,3],[4,5],[5,4]]\n",
    "X = np.array(X)\n",
    "X = X - X.mean(axis=0)\n",
    "\n",
    "# covariance matrix\n",
    "C = (X.T @ X) / X.shape[0] # 공분산 구하기\n",
    "L, Q = linalg.eigh(C) # eigen decomposition 수행\n",
    "\n",
    "print(C)\n",
    "\n",
    "# print(L)\n",
    "# print(Q)\n",
    "\n",
    "# Y = X @ Q"
   ]
  },
  {
   "attachments": {},
   "cell_type": "markdown",
   "metadata": {},
   "source": [
    "kmeans"
   ]
  },
  {
   "cell_type": "code",
   "execution_count": null,
   "metadata": {},
   "outputs": [],
   "source": [
    "from sklearn.cluster import KMeans\n",
    "import numpy as np\n",
    "\n",
    "X = np.array([[1, 1],\n",
    "              [2, 1],\n",
    "              [1, 2],\n",
    "              [4, 3],\n",
    "              [4, 4]])\n",
    "\n",
    "init_centers = np.array([[3, 1],\n",
    "                         [3, 2]])\n",
    "kmeans = KMeans(n_clusters=2, init=init_centers, n_init=1, max_iter=1)\n",
    "kmeans.fit(X)\n",
    "\n",
    "new_centers = kmeans.cluster_centers_\n",
    "new_centers.sort(axis=0)\n",
    "new_centers\n",
    "     "
   ]
  },
  {
   "attachments": {},
   "cell_type": "markdown",
   "metadata": {},
   "source": [
    "Collaborative Filtering"
   ]
  },
  {
   "cell_type": "code",
   "execution_count": 15,
   "metadata": {},
   "outputs": [
    {
     "name": "stdout",
     "output_type": "stream",
     "text": [
      "[[ 0.9212884 ]\n",
      " [-0.43571429]\n",
      " [ 1.        ]\n",
      " [ 0.79264162]\n",
      " [-0.17251639]]\n",
      "2.85\n",
      "2.0\n"
     ]
    }
   ],
   "source": [
    "# user-user, cosine\n",
    "\n",
    "import numpy as np\n",
    "from sklearn.metrics.pairwise import cosine_similarity\n",
    "\n",
    "# Collaborative\n",
    "v1_mean = np.array([2,3,5,1,5]).mean()\n",
    "v2_mean = np.array([5,3,1,4]).mean()\n",
    "v3_mean = np.array([3,4,1,5]).mean()\n",
    "v4_mean = np.array([2,1,1,5]).mean()\n",
    "v5_mean = np.array([5,2,2,3]).mean()\n",
    "\n",
    "v1 = np.array([2,3,5,1,5]) - v1_mean\n",
    "v2 = np.array([5,3,1,4,v2_mean]) - v2_mean\n",
    "v3 = np.array([3,v3_mean,4,1,5]) - v3_mean\n",
    "v4 = np.array([2,1,v4_mean,1,5]) - v4_mean\n",
    "v5 = np.array([5,2,2,3,v5_mean]) - v5_mean\n",
    "\n",
    "arrays = np.array([v1, v2, v3, v4, v5])\n",
    "v3 = v3.reshape(1, -1)\n",
    "cos = cosine_similarity(arrays, v3)\n",
    "print(cos)\n",
    "# res = ((cos[0] * 3) + (cos[3] * 1)) / (cos[0] + cos[3])\n",
    "# print(res)\n",
    "# Collaborative + bias\n",
    "all = np.array([2,3,5,1,5,5,3,1,4,3,4,1,5,2,1,1,5,5,2,2,3]).mean() # 전체 평점 평균\n",
    "target = np.array([3,4,1,5]).mean() # 평점 매기려는 영화의 평점 평균\n",
    "user = np.array([5,1,4,1,2]).mean() # 한 유저가 매긴 평점 평균\n",
    "baseline = all + (target - all) + (user - all) # baseline 값\n",
    "print(baseline)\n",
    "res = 2.85 + (((3 - baseline)) + ((1 - baseline))) / 2\n",
    "\n",
    "print(res)"
   ]
  },
  {
   "attachments": {},
   "cell_type": "markdown",
   "metadata": {},
   "source": [
    "Latent Factor model"
   ]
  },
  {
   "cell_type": "code",
   "execution_count": null,
   "metadata": {},
   "outputs": [],
   "source": [
    "# Latent Factor Model\n",
    "# Regularization\n",
    "import torch\n",
    "import matplotlib.pyplot as plt\n",
    "import torch.nn.functional as F\n",
    "\n",
    "\n",
    "items = torch.LongTensor([0,0,0,0,0,1,1,1,1,2,2,2,2,3,3,3,3,3,4,4,4])\n",
    "users = torch.LongTensor([0,1,2,3,4,0,1,3,4,0,1,2,4,0,1,2,3,4,0,2,3])\n",
    "ratings = torch.FloatTensor([2,5,3,2,5,3,3,1,2,5,1,4,2,1,4,1,1,3,5,5,5])\n",
    "\n",
    "\n",
    "rank = 1\n",
    "numItems = items.max() + 1\n",
    "numUsers = users.max() + 1\n",
    "P = torch.randn(numItems, rank, requires_grad=True)\n",
    "Q = torch.randn(numUsers, rank, requires_grad=True)\n",
    "\n",
    "\n",
    "x = []\n",
    "y = []\n",
    "\n",
    "lambda1 = 0.01\n",
    "lambda2 = 0.01\n",
    "\n",
    "# 기본 Matrix Factoriztion 구현\n",
    "optimizer = torch.optim.Adam([P, Q], lr= 0.1)\n",
    "for epoch in range(1001):\n",
    "  hypothesis = torch.sum(P[items] * Q[users], dim= 1)\n",
    "  cost = F.mse_loss(hypothesis ,ratings)\n",
    "\n",
    "  loss = cost + lambda1 * torch.sum(P ** 2) + lambda2 * torch.sum(Q ** 2)\n",
    "\n",
    "  optimizer.zero_grad()\n",
    "  loss.backward()\n",
    "  optimizer.step()\n",
    "\n",
    "  x.append(epoch)\n",
    "  y.append(cost.item())\n",
    "\n",
    "#   with torch.no_grad():\n",
    "#     hypo_test = torch.sum(P[items_test] * Q[users_test], dim=1)\n",
    "#     cost_test = F.mse_loss(hypo_test, ratings_test)\n",
    "#     y_test.append(cost_test)\n",
    "\n",
    "  if epoch % 100 == 0:\n",
    "    print(\"epoch: {}, cost: {:.6f}\" .format(epoch, cost.item()))\n",
    "\n",
    "# Matplolib으로 epoch마다 Training MSE & Test MSE 그려보기\n",
    "print(P)\n",
    "plt.ylabel(\"MSE\")\n",
    "plt.xlabel(\"Epoch\")\n",
    "plt.plot(x, y, c=\"blue\", label=\"Training MSE\")\n",
    "# plt.plot(x,y_test, c=\"red\", label=\"Test MSE\")\n",
    "plt.legend()\n",
    "plt.show()"
   ]
  }
 ],
 "metadata": {
  "kernelspec": {
   "display_name": "Python 3",
   "language": "python",
   "name": "python3"
  },
  "language_info": {
   "codemirror_mode": {
    "name": "ipython",
    "version": 3
   },
   "file_extension": ".py",
   "mimetype": "text/x-python",
   "name": "python",
   "nbconvert_exporter": "python",
   "pygments_lexer": "ipython3",
   "version": "3.9.6"
  },
  "orig_nbformat": 4
 },
 "nbformat": 4,
 "nbformat_minor": 2
}
